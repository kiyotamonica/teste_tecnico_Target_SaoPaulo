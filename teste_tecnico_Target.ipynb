{
  "nbformat": 4,
  "nbformat_minor": 0,
  "metadata": {
    "colab": {
      "provenance": []
    },
    "kernelspec": {
      "name": "python3",
      "display_name": "Python 3"
    },
    "language_info": {
      "name": "python"
    }
  },
  "cells": [
    {
      "cell_type": "markdown",
      "source": [
        "##Questão 1"
      ],
      "metadata": {
        "id": "jNzLohiJ8wmd"
      }
    },
    {
      "cell_type": "markdown",
      "source": [
        "**Resposta:** 90"
      ],
      "metadata": {
        "id": "AgRV83kX8ydN"
      }
    },
    {
      "cell_type": "markdown",
      "source": [
        "##Questão 2"
      ],
      "metadata": {
        "id": "5nIFxKwp81gy"
      }
    },
    {
      "cell_type": "markdown",
      "source": [
        "Dado a sequência de Fibonacci, onde se inicia por 0 e 1, e o próximo valor sempre será a soma dos 2 valores anteriores (exemplo: 0, 1, 1, 2, 3, 5, 8, 13, 21, 34 ...), escreva um programa na linguagem que desejar onde, informado um número, ele calcule a sequência de Fibonnaci e retorne uma mensagem avisando se o número informado pertence ou não à sequência."
      ],
      "metadata": {
        "id": "LL4WdSol9GFA"
      }
    },
    {
      "cell_type": "code",
      "source": [
        "def sequencia_fibonacci(numero):\n",
        "  primeiro_numero, segundo_numero = 0, 1                                               #Esses são os números que irão iniciar a sequência, logo, caso o usuário insira 0 ou 1, já será detectado e retornará que faz parte da sequência.\n",
        "  if numero == 0 or numero == 1:\n",
        "    return True\n",
        "\n",
        "  while primeiro_numero <= numero:                                                     #Caso o número seja diferente de 0 e 1, cairá nesse laço while. Optei como critério de parada da sequência o próprio número inserido já que a sequência de fibonacci é infinita.\n",
        "    if primeiro_numero == numero or segundo_numero == numero:                          #Verifica se os numeros presentes nas duas variáveis são iguais ao valor inserido, caso sim, retornará TRUE, caso contrário a sequência terá continuidade.\n",
        "      return True                                                                      #Após percorrer todo o laço while sem retornar TRUE, o código sai do laço e retorna FALSE.\n",
        "    primeiro_numero, segundo_numero = segundo_numero, primeiro_numero + segundo_numero\n",
        "  return False\n",
        "\n",
        "numero_inserido = int(input(\"Insira o valor a ser verificado: \"))                      #Recebe o valor do usuário e já o transforma em inteiro.\n",
        "\n",
        "if sequencia_fibonacci(numero_inserido):                                               #Faz a chamada da função para verificar o valor e retornar a mensagem.\n",
        "  print(f\"O número {numero_inserido} faz parte da sequência de Fibonacci !\")\n",
        "else:\n",
        "  print(f\"O número {numero_inserido} NÃO faz parte da sequência de Fibonacci !\")\n"
      ],
      "metadata": {
        "colab": {
          "base_uri": "https://localhost:8080/"
        },
        "id": "SL4W7fSZ9HwF",
        "outputId": "68e40d96-254c-4e74-c983-c4eaf1de1ad8"
      },
      "execution_count": 1,
      "outputs": [
        {
          "output_type": "stream",
          "name": "stdout",
          "text": [
            "Insira o valor a ser verificado: 2\n",
            "O número 2 faz parte da sequência de Fibonacci !\n"
          ]
        }
      ]
    },
    {
      "cell_type": "markdown",
      "source": [
        "##Questão 3"
      ],
      "metadata": {
        "id": "ZSB2nr4Z_lj4"
      }
    },
    {
      "cell_type": "code",
      "source": [
        "#Utilizarei o arquivo dados.json, por isso o import.\n",
        "import json\n",
        "\n",
        "def ler_dados_arquivoJson(dadosJson):                                                      #Essa função fará a leitura do arquivo json\n",
        "  with open(dadosJson, 'r') as arquivo:                                                    #O arquivo será aberto no modo leitura ('r')\n",
        "    dados = json.load(arquivo)                                                             #Leitura dos dados do arquivo json\n",
        "  return dados\n",
        "\n",
        "def analisa_faturamento(faturamento):                                                      #Essa função fará a análise do faturamento\n",
        "  valores = [dia['valor'] for dia in faturamento if dia['valor'] > 0]                      #Cria uma lista com os valores de faturamento que sao positivos\n",
        "\n",
        "  if not valores:                                                                          #Verifica se a lista de valores criada está vazia\n",
        "    return None, None, 0                                                                   #Caso esteja vazia, retornará NONE para menor_valor, NONE para maior_valor e 0 para dias_acima_da_media\n",
        "\n",
        "  menor_valor = min(valores)                                                               #Aqui serão calculados o menor e maior valor\n",
        "  maior_valor = max(valores)\n",
        "\n",
        "  media_mensal = sum(valores)/len(valores)                                                 #Aqui a média é calculada fazendo a soma dos valores dividido pela quantidade de dias que houve algum faturamento.\n",
        "\n",
        "  dias_acima_da_media = sum(1 for dia in faturamento if dia['valor'] > media_mensal)       #Conta a quantidade de dias em que o faturamento foi superior à média\n",
        "\n",
        "  return menor_valor, maior_valor, dias_acima_da_media                                     #retorna os valores das variáveis de interesse\n",
        "\n",
        "dadosJson = '/content/dados.json'                                                          #Caminho do arquivo json\n",
        "faturamento = ler_dados_arquivoJson(dadosJson)                                             #Chamada da função para ler os dados do arquivo\n",
        "menor_valor, maior_valor, dias_acima_da_media = analisa_faturamento(faturamento)           #Atribuição das variáveis ao chamar a função analisa_faturamento\n",
        "\n",
        "print(f\"Menor valor de faturamento: R$ {menor_valor:.2f}\")                                 #Impressão dos valores\n",
        "print(f\"Maior valor de faturamento: R$ {maior_valor:.2f}\")\n",
        "print(f\"Número de dias com faturamento acima da média: {dias_acima_da_media}\")"
      ],
      "metadata": {
        "colab": {
          "base_uri": "https://localhost:8080/"
        },
        "id": "EEyTmyli_oVQ",
        "outputId": "806b5eb1-a81d-44a5-eb95-0aad2e8ea40b"
      },
      "execution_count": 5,
      "outputs": [
        {
          "output_type": "stream",
          "name": "stdout",
          "text": [
            "Menor valor de faturamento: R$ 373.78\n",
            "Maior valor de faturamento: R$ 48924.24\n",
            "Número de dias com faturamento acima da média: 10\n"
          ]
        }
      ]
    },
    {
      "cell_type": "markdown",
      "source": [
        "##Questão 4"
      ],
      "metadata": {
        "id": "mMeLcKRgH6h6"
      }
    },
    {
      "cell_type": "code",
      "source": [
        "faturamento_por_estados = {\n",
        "    'SP': 67836.43,\n",
        "    'RJ': 36678.66,\n",
        "    'MG': 29229.88,\n",
        "    'ES': 27165.48,\n",
        "    'OUTROS': 19849.53\n",
        "}\n",
        "\n",
        "valor_total = sum(faturamento_por_estados.values())                                           #Faz a soma dos valores de faturamento\n",
        "\n",
        "percentuais = {                                                                               #Irá calcular o percentual de representação de cada estado em questão\n",
        "    estado: (valor/valor_total)*100 for estado, valor in faturamento_por_estados.items()}\n",
        "\n",
        "print(f\"O valor total mensal é de: R$ {valor_total:.2f}\")                                     #Printando os resultados arredondados em duas casas decimais\n",
        "for estado, percentual in percentuais.items():\n",
        "  print(f\"O percentual de representação de {estado} é: {percentual:.2f}%\")"
      ],
      "metadata": {
        "colab": {
          "base_uri": "https://localhost:8080/"
        },
        "id": "vTxVSN_FH8Vi",
        "outputId": "522ec46e-f54e-4a2c-daf2-6fa0032db518"
      },
      "execution_count": 6,
      "outputs": [
        {
          "output_type": "stream",
          "name": "stdout",
          "text": [
            "O valor total mensal é de: R$ 180759.98\n",
            "O percentual de representação de SP é: 37.53%\n",
            "O percentual de representação de RJ é: 20.29%\n",
            "O percentual de representação de MG é: 16.17%\n",
            "O percentual de representação de ES é: 15.03%\n",
            "O percentual de representação de OUTROS é: 10.98%\n"
          ]
        }
      ]
    },
    {
      "cell_type": "markdown",
      "source": [
        "##Questão 5"
      ],
      "metadata": {
        "id": "SUoKtKZzK6yp"
      }
    },
    {
      "cell_type": "code",
      "source": [
        "def inverter_string(string_original):\n",
        "  string_invertida = ''                                 #uma string vazia que receberá os caracteres\n",
        "\n",
        "  for i in range(len(string_original) -1,-1,-1):        #Irá percorrer a string original do final para o início e adicionará o caractere à string_invertida\n",
        "    string_invertida += string_original[i]\n",
        "\n",
        "  return string_invertida\n",
        "\n",
        "string_original = input(\"Insira a sua string aqui: \")   #Recebendo a string do usuário e chamando a função de inversão\n",
        "string_invertida = inverter_string(string_original)\n",
        "\n",
        "print(f\"A string original é: {string_original}\")        #Mostrando as duas strings resultantes\n",
        "print(f\"A string invertida é: {string_invertida}\")"
      ],
      "metadata": {
        "colab": {
          "base_uri": "https://localhost:8080/"
        },
        "id": "xnXQkwKQK9AJ",
        "outputId": "ce46d2e1-9a99-4412-c7ff-bb8ad3cc10f3"
      },
      "execution_count": 10,
      "outputs": [
        {
          "output_type": "stream",
          "name": "stdout",
          "text": [
            "Insira a sua string aqui: Amoeba a massinha colorida para a gente brincar\n",
            "A string original é: Amoeba a massinha colorida para a gente brincar\n",
            "A string invertida é: racnirb etneg a arap adiroloc ahnissam a abeomA\n"
          ]
        }
      ]
    }
  ]
}